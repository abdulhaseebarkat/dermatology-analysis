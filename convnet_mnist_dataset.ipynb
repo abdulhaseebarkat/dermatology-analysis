{
  "nbformat": 4,
  "nbformat_minor": 0,
  "metadata": {
    "colab": {
      "provenance": []
    },
    "kernelspec": {
      "name": "python3",
      "display_name": "Python 3"
    },
    "language_info": {
      "name": "python"
    }
  },
  "cells": [
    {
      "cell_type": "code",
      "execution_count": 6,
      "metadata": {
        "id": "CeSTRZkdFnkG"
      },
      "outputs": [],
      "source": [
        "from keras.datasets import mnist"
      ]
    },
    {
      "cell_type": "code",
      "source": [
        "(train_images, train_labels), (test_images, test_labels) = mnist.load_data()"
      ],
      "metadata": {
        "id": "FgZdyx_kFu8A"
      },
      "execution_count": 7,
      "outputs": []
    },
    {
      "cell_type": "code",
      "source": [],
      "metadata": {
        "id": "UdwaJ-GAGBtc"
      },
      "execution_count": 7,
      "outputs": []
    },
    {
      "cell_type": "markdown",
      "source": [],
      "metadata": {
        "id": "OZ-tFSHuGXTI"
      }
    },
    {
      "cell_type": "code",
      "source": [
        "train_images = train_images.reshape((len(train_images), len(train_images[0]),len(train_images[0]), 1))\n",
        "train_images = train_images.astype('float32')/255"
      ],
      "metadata": {
        "id": "2Lw6jyH3GSJ_"
      },
      "execution_count": 8,
      "outputs": []
    },
    {
      "cell_type": "code",
      "source": [
        "test_images = test_images.reshape(len(test_images), len(test_images[0]), len(test_images[0]), 1)\n",
        "test_images = test_images.astype('float32')/255"
      ],
      "metadata": {
        "id": "O13XkPb8Gklj"
      },
      "execution_count": 9,
      "outputs": []
    },
    {
      "cell_type": "code",
      "source": [
        "import numpy as np\n",
        "def to_categorical(labels):\n",
        "  new_labels = np.zeros((len(labels),10),dtype=\"float32\")\n",
        "  i=0\n",
        "  while i<len(labels):\n",
        "    new_labels[i][labels[i]] = 1\n",
        "    i += 1\n",
        "  return new_labels"
      ],
      "metadata": {
        "id": "2FxmCsBXGryG"
      },
      "execution_count": 10,
      "outputs": []
    },
    {
      "cell_type": "code",
      "source": [
        "train_labels = to_categorical(train_labels)\n",
        "test_labels = to_categorical(test_labels)"
      ],
      "metadata": {
        "id": "qoDtJH15G_b9"
      },
      "execution_count": 11,
      "outputs": []
    },
    {
      "cell_type": "code",
      "source": [
        "from keras import layers\n",
        "from keras import models"
      ],
      "metadata": {
        "id": "P6xm_v96H185"
      },
      "execution_count": 12,
      "outputs": []
    },
    {
      "cell_type": "code",
      "source": [
        "model = models.Sequential()\n",
        "model.add(layers.Conv2D(32,(3,3), activation=\"relu\", input_shape = (28,28,1)))\n",
        "model.add(layers.MaxPooling2D((2,2)))\n",
        "model.add(layers.Conv2D(64,(3,3), activation=\"relu\"))\n",
        "model.add(layers.MaxPooling2D(2,2))\n",
        "model.add(layers.Conv2D(64, (3,3), activation=\"relu\"))\n",
        "model.add(layers.Flatten())\n",
        "model.add(layers.Dense(64, activation=\"relu\"))\n",
        "model.add(layers.Dense(10, activation=\"softmax\"))"
      ],
      "metadata": {
        "id": "o3Kl_aDTNboo"
      },
      "execution_count": 13,
      "outputs": []
    },
    {
      "cell_type": "code",
      "source": [
        "model.compile(optimizer=\"rmsprop\",loss=\"categorical_crossentropy\", metrics=[\"accuracy\"])"
      ],
      "metadata": {
        "id": "cD0ThgioNePP"
      },
      "execution_count": 14,
      "outputs": []
    },
    {
      "cell_type": "code",
      "source": [
        "model.fit(train_images, train_labels, epochs=5, batch_size=64)"
      ],
      "metadata": {
        "colab": {
          "base_uri": "https://localhost:8080/"
        },
        "id": "CtOel8qpOmYq",
        "outputId": "5765ada8-eb10-40a1-c55a-fa22ac83b94d"
      },
      "execution_count": 15,
      "outputs": [
        {
          "output_type": "stream",
          "name": "stdout",
          "text": [
            "Epoch 1/5\n",
            "938/938 [==============================] - 68s 71ms/step - loss: 0.1820 - accuracy: 0.9434\n",
            "Epoch 2/5\n",
            "938/938 [==============================] - 60s 64ms/step - loss: 0.0504 - accuracy: 0.9846\n",
            "Epoch 3/5\n",
            "938/938 [==============================] - 61s 65ms/step - loss: 0.0347 - accuracy: 0.9891\n",
            "Epoch 4/5\n",
            "938/938 [==============================] - 62s 66ms/step - loss: 0.0265 - accuracy: 0.9919\n",
            "Epoch 5/5\n",
            "938/938 [==============================] - 60s 64ms/step - loss: 0.0204 - accuracy: 0.9936\n"
          ]
        },
        {
          "output_type": "execute_result",
          "data": {
            "text/plain": [
              "<keras.callbacks.History at 0x7e6b2efa6aa0>"
            ]
          },
          "metadata": {},
          "execution_count": 15
        }
      ]
    },
    {
      "cell_type": "code",
      "source": [
        "test_loss, test_acc = model.evaluate(test_images, test_labels)"
      ],
      "metadata": {
        "colab": {
          "base_uri": "https://localhost:8080/"
        },
        "id": "y3kspfpqOq11",
        "outputId": "811a027d-15a1-476b-8e7f-ebeeedf0f662"
      },
      "execution_count": 16,
      "outputs": [
        {
          "output_type": "stream",
          "name": "stdout",
          "text": [
            "313/313 [==============================] - 4s 12ms/step - loss: 0.0325 - accuracy: 0.9901\n"
          ]
        }
      ]
    },
    {
      "cell_type": "code",
      "source": [
        "test_acc"
      ],
      "metadata": {
        "colab": {
          "base_uri": "https://localhost:8080/"
        },
        "id": "ZBg3KHAJPB9E",
        "outputId": "29117328-70a6-417b-dc40-d9669d266746"
      },
      "execution_count": 17,
      "outputs": [
        {
          "output_type": "execute_result",
          "data": {
            "text/plain": [
              "0.9901000261306763"
            ]
          },
          "metadata": {},
          "execution_count": 17
        }
      ]
    },
    {
      "cell_type": "code",
      "source": [],
      "metadata": {
        "id": "9uU6RiLdPEbG"
      },
      "execution_count": 17,
      "outputs": []
    }
  ]
}